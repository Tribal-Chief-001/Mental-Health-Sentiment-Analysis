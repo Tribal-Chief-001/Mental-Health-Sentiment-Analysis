{
  "nbformat": 4,
  "nbformat_minor": 0,
  "metadata": {
    "colab": {
      "provenance": [],
      "authorship_tag": "ABX9TyOZkGuvs+TTuNwWlIeuFje5",
      "include_colab_link": true
    },
    "kernelspec": {
      "name": "python3",
      "display_name": "Python 3"
    },
    "language_info": {
      "name": "python"
    }
  },
  "cells": [
    {
      "cell_type": "markdown",
      "metadata": {
        "id": "view-in-github",
        "colab_type": "text"
      },
      "source": [
        "<a href=\"https://colab.research.google.com/github/Tribal-Chief-001/Mental-Health-Sentiment-Analysis/blob/main/Mental_Health_Sentiment_Analysis.ipynb\" target=\"_parent\"><img src=\"https://colab.research.google.com/assets/colab-badge.svg\" alt=\"Open In Colab\"/></a>"
      ]
    },
    {
      "cell_type": "code",
      "execution_count": 3,
      "metadata": {
        "colab": {
          "base_uri": "https://localhost:8080/"
        },
        "id": "ETPjbSA0UTI9",
        "outputId": "206de1dc-ba09-4a29-9c54-b433ab081a0e"
      },
      "outputs": [
        {
          "output_type": "stream",
          "name": "stdout",
          "text": [
            "--2025-07-25 16:18:08--  https://huggingface.co/datasets/solomonk/reddit_mental_health_posts/resolve/main/depression.csv\n",
            "Resolving huggingface.co (huggingface.co)... 3.168.73.129, 3.168.73.111, 3.168.73.106, ...\n",
            "Connecting to huggingface.co (huggingface.co)|3.168.73.129|:443... connected.\n",
            "HTTP request sent, awaiting response... 302 Found\n",
            "Location: https://cdn-lfs.hf.co/datasets/solomonk/reddit_mental_health_posts/5ffda120f9ec2061c2348e03afb07d7704bd326778f795ff39be4e437ca48987?response-content-disposition=inline%3B+filename*%3DUTF-8%27%27depression.csv%3B+filename%3D%22depression.csv%22%3B&response-content-type=text%2Fcsv&Expires=1753463888&Policy=eyJTdGF0ZW1lbnQiOlt7IkNvbmRpdGlvbiI6eyJEYXRlTGVzc1RoYW4iOnsiQVdTOkVwb2NoVGltZSI6MTc1MzQ2Mzg4OH19LCJSZXNvdXJjZSI6Imh0dHBzOi8vY2RuLWxmcy5oZi5jby9kYXRhc2V0cy9zb2xvbW9uay9yZWRkaXRfbWVudGFsX2hlYWx0aF9wb3N0cy81ZmZkYTEyMGY5ZWMyMDYxYzIzNDhlMDNhZmIwN2Q3NzA0YmQzMjY3NzhmNzk1ZmYzOWJlNGU0MzdjYTQ4OTg3P3Jlc3BvbnNlLWNvbnRlbnQtZGlzcG9zaXRpb249KiZyZXNwb25zZS1jb250ZW50LXR5cGU9KiJ9XX0_&Signature=XZpU7DMzxgaJ7Tun7kTFE8dzi55JLGoxxNxAj8XLtXtrcV9h-Knd1JWQcQs-T%7E64VCqB0pOD%7E2BnB8ShIB6rX3K9E7fuSNe0bP7P706iXonDONIO2YvaepSe3u65Vu8bNMhDeJw7v7At4K31dttFGBlC3NwSyrnnfrJY9D87R29XqqGrFQjvhk4aoZaOJudzxbKwAzBrnQCLBzhmaegxw9FY5ouHPBzgr3bHTkJOHlMc-O4C9IIyTMDIMzXM5f7ugn9iPM3cIXYqwv2C4h9AoHoMk2Mq0tOvSL9b58KdPObWKzEyEkXEBaQ3GtD98Qr3tKs835PztHeJ8FgielJAUA__&Key-Pair-Id=K3RPWS32NSSJCE [following]\n",
            "--2025-07-25 16:18:08--  https://cdn-lfs.hf.co/datasets/solomonk/reddit_mental_health_posts/5ffda120f9ec2061c2348e03afb07d7704bd326778f795ff39be4e437ca48987?response-content-disposition=inline%3B+filename*%3DUTF-8%27%27depression.csv%3B+filename%3D%22depression.csv%22%3B&response-content-type=text%2Fcsv&Expires=1753463888&Policy=eyJTdGF0ZW1lbnQiOlt7IkNvbmRpdGlvbiI6eyJEYXRlTGVzc1RoYW4iOnsiQVdTOkVwb2NoVGltZSI6MTc1MzQ2Mzg4OH19LCJSZXNvdXJjZSI6Imh0dHBzOi8vY2RuLWxmcy5oZi5jby9kYXRhc2V0cy9zb2xvbW9uay9yZWRkaXRfbWVudGFsX2hlYWx0aF9wb3N0cy81ZmZkYTEyMGY5ZWMyMDYxYzIzNDhlMDNhZmIwN2Q3NzA0YmQzMjY3NzhmNzk1ZmYzOWJlNGU0MzdjYTQ4OTg3P3Jlc3BvbnNlLWNvbnRlbnQtZGlzcG9zaXRpb249KiZyZXNwb25zZS1jb250ZW50LXR5cGU9KiJ9XX0_&Signature=XZpU7DMzxgaJ7Tun7kTFE8dzi55JLGoxxNxAj8XLtXtrcV9h-Knd1JWQcQs-T%7E64VCqB0pOD%7E2BnB8ShIB6rX3K9E7fuSNe0bP7P706iXonDONIO2YvaepSe3u65Vu8bNMhDeJw7v7At4K31dttFGBlC3NwSyrnnfrJY9D87R29XqqGrFQjvhk4aoZaOJudzxbKwAzBrnQCLBzhmaegxw9FY5ouHPBzgr3bHTkJOHlMc-O4C9IIyTMDIMzXM5f7ugn9iPM3cIXYqwv2C4h9AoHoMk2Mq0tOvSL9b58KdPObWKzEyEkXEBaQ3GtD98Qr3tKs835PztHeJ8FgielJAUA__&Key-Pair-Id=K3RPWS32NSSJCE\n",
            "Resolving cdn-lfs.hf.co (cdn-lfs.hf.co)... 3.171.139.62, 3.171.139.14, 3.171.139.125, ...\n",
            "Connecting to cdn-lfs.hf.co (cdn-lfs.hf.co)|3.171.139.62|:443... connected.\n",
            "HTTP request sent, awaiting response... 200 OK\n",
            "Length: 17176460 (16M) [text/csv]\n",
            "Saving to: ‘depression.csv’\n",
            "\n",
            "depression.csv      100%[===================>]  16.38M  53.7MB/s    in 0.3s    \n",
            "\n",
            "2025-07-25 16:18:09 (53.7 MB/s) - ‘depression.csv’ saved [17176460/17176460]\n",
            "\n"
          ]
        }
      ],
      "source": [
        "!wget \"https://huggingface.co/datasets/solomonk/reddit_mental_health_posts/resolve/main/depression.csv\"\n"
      ]
    },
    {
      "cell_type": "code",
      "source": [
        "!wget \"https://huggingface.co/datasets/solomonk/reddit_mental_health_posts/resolve/main/adhd.csv\"\n",
        "\n"
      ],
      "metadata": {
        "colab": {
          "base_uri": "https://localhost:8080/"
        },
        "id": "eZZoFT4tZANt",
        "outputId": "e434c35f-946f-4810-8e67-63bbea9e3d31"
      },
      "execution_count": 4,
      "outputs": [
        {
          "output_type": "stream",
          "name": "stdout",
          "text": [
            "--2025-07-25 16:22:45--  https://huggingface.co/datasets/solomonk/reddit_mental_health_posts/resolve/main/adhd.csv\n",
            "Resolving huggingface.co (huggingface.co)... 3.167.112.38, 3.167.112.45, 3.167.112.25, ...\n",
            "Connecting to huggingface.co (huggingface.co)|3.167.112.38|:443... connected.\n",
            "HTTP request sent, awaiting response... 302 Found\n",
            "Location: https://cdn-lfs.hf.co/datasets/solomonk/reddit_mental_health_posts/629474a0a50fb08720df9852b68d561a60e012afa05741d7a490f656e516992c?response-content-disposition=inline%3B+filename*%3DUTF-8%27%27adhd.csv%3B+filename%3D%22adhd.csv%22%3B&response-content-type=text%2Fcsv&Expires=1753464165&Policy=eyJTdGF0ZW1lbnQiOlt7IkNvbmRpdGlvbiI6eyJEYXRlTGVzc1RoYW4iOnsiQVdTOkVwb2NoVGltZSI6MTc1MzQ2NDE2NX19LCJSZXNvdXJjZSI6Imh0dHBzOi8vY2RuLWxmcy5oZi5jby9kYXRhc2V0cy9zb2xvbW9uay9yZWRkaXRfbWVudGFsX2hlYWx0aF9wb3N0cy82Mjk0NzRhMGE1MGZiMDg3MjBkZjk4NTJiNjhkNTYxYTYwZTAxMmFmYTA1NzQxZDdhNDkwZjY1NmU1MTY5OTJjP3Jlc3BvbnNlLWNvbnRlbnQtZGlzcG9zaXRpb249KiZyZXNwb25zZS1jb250ZW50LXR5cGU9KiJ9XX0_&Signature=W%7E2KJHk6KKfwBqnYR%7ErKLc8wYLw3H3vNgUubLB7GrEjZ9QUiwJVNn5YP5IG0-0Clg7f2EhcdKed%7E0o1oFx%7EsYgbh2BnUEDGyzg3ZKCVi1LMsCfOV6QnocQnOKltGqvSKHyE5a3TjQVqLNcJoHN44GlSEtFpnNhpviEiAxoxw3xsQ8sB3eVJSJpVJuMHSaXNFCsAIWzUME%7Ev5dXBgBe1TDMQOzX4Q1JXasjR9uyV9Hg0fg0oHC9AXTY2uVu9Pwq%7ERKpjjETuq06RRDYktQjyMWTjqaKrn0JUpys3DuCgpZA63jilgHKqkTWaCNO%7EIArGpCHG0POfo7V-UE7gfM%7Edipg__&Key-Pair-Id=K3RPWS32NSSJCE [following]\n",
            "--2025-07-25 16:22:45--  https://cdn-lfs.hf.co/datasets/solomonk/reddit_mental_health_posts/629474a0a50fb08720df9852b68d561a60e012afa05741d7a490f656e516992c?response-content-disposition=inline%3B+filename*%3DUTF-8%27%27adhd.csv%3B+filename%3D%22adhd.csv%22%3B&response-content-type=text%2Fcsv&Expires=1753464165&Policy=eyJTdGF0ZW1lbnQiOlt7IkNvbmRpdGlvbiI6eyJEYXRlTGVzc1RoYW4iOnsiQVdTOkVwb2NoVGltZSI6MTc1MzQ2NDE2NX19LCJSZXNvdXJjZSI6Imh0dHBzOi8vY2RuLWxmcy5oZi5jby9kYXRhc2V0cy9zb2xvbW9uay9yZWRkaXRfbWVudGFsX2hlYWx0aF9wb3N0cy82Mjk0NzRhMGE1MGZiMDg3MjBkZjk4NTJiNjhkNTYxYTYwZTAxMmFmYTA1NzQxZDdhNDkwZjY1NmU1MTY5OTJjP3Jlc3BvbnNlLWNvbnRlbnQtZGlzcG9zaXRpb249KiZyZXNwb25zZS1jb250ZW50LXR5cGU9KiJ9XX0_&Signature=W%7E2KJHk6KKfwBqnYR%7ErKLc8wYLw3H3vNgUubLB7GrEjZ9QUiwJVNn5YP5IG0-0Clg7f2EhcdKed%7E0o1oFx%7EsYgbh2BnUEDGyzg3ZKCVi1LMsCfOV6QnocQnOKltGqvSKHyE5a3TjQVqLNcJoHN44GlSEtFpnNhpviEiAxoxw3xsQ8sB3eVJSJpVJuMHSaXNFCsAIWzUME%7Ev5dXBgBe1TDMQOzX4Q1JXasjR9uyV9Hg0fg0oHC9AXTY2uVu9Pwq%7ERKpjjETuq06RRDYktQjyMWTjqaKrn0JUpys3DuCgpZA63jilgHKqkTWaCNO%7EIArGpCHG0POfo7V-UE7gfM%7Edipg__&Key-Pair-Id=K3RPWS32NSSJCE\n",
            "Resolving cdn-lfs.hf.co (cdn-lfs.hf.co)... 18.160.18.28, 18.160.18.96, 18.160.18.45, ...\n",
            "Connecting to cdn-lfs.hf.co (cdn-lfs.hf.co)|18.160.18.28|:443... connected.\n",
            "HTTP request sent, awaiting response... 200 OK\n",
            "Length: 29607487 (28M) [text/csv]\n",
            "Saving to: ‘adhd.csv’\n",
            "\n",
            "adhd.csv            100%[===================>]  28.24M  67.8MB/s    in 0.4s    \n",
            "\n",
            "2025-07-25 16:22:46 (67.8 MB/s) - ‘adhd.csv’ saved [29607487/29607487]\n",
            "\n"
          ]
        }
      ]
    },
    {
      "cell_type": "code",
      "source": [
        "!wget \"https://huggingface.co/datasets/solomonk/reddit_mental_health_posts/resolve/main/ocd.csv\"\n"
      ],
      "metadata": {
        "colab": {
          "base_uri": "https://localhost:8080/"
        },
        "id": "MAJzhpjnZPwu",
        "outputId": "446b1b52-63e7-4053-c038-f13e944c03f5"
      },
      "execution_count": 5,
      "outputs": [
        {
          "output_type": "stream",
          "name": "stdout",
          "text": [
            "--2025-07-25 16:23:01--  https://huggingface.co/datasets/solomonk/reddit_mental_health_posts/resolve/main/ocd.csv\n",
            "Resolving huggingface.co (huggingface.co)... 3.167.112.38, 3.167.112.45, 3.167.112.25, ...\n",
            "Connecting to huggingface.co (huggingface.co)|3.167.112.38|:443... connected.\n",
            "HTTP request sent, awaiting response... 302 Found\n",
            "Location: https://cdn-lfs.hf.co/datasets/solomonk/reddit_mental_health_posts/b68da65fd2d82396c4191232b39ae6563d520047681d3a9cb7dd2a3524a22cc1?response-content-disposition=inline%3B+filename*%3DUTF-8%27%27ocd.csv%3B+filename%3D%22ocd.csv%22%3B&response-content-type=text%2Fcsv&Expires=1753464181&Policy=eyJTdGF0ZW1lbnQiOlt7IkNvbmRpdGlvbiI6eyJEYXRlTGVzc1RoYW4iOnsiQVdTOkVwb2NoVGltZSI6MTc1MzQ2NDE4MX19LCJSZXNvdXJjZSI6Imh0dHBzOi8vY2RuLWxmcy5oZi5jby9kYXRhc2V0cy9zb2xvbW9uay9yZWRkaXRfbWVudGFsX2hlYWx0aF9wb3N0cy9iNjhkYTY1ZmQyZDgyMzk2YzQxOTEyMzJiMzlhZTY1NjNkNTIwMDQ3NjgxZDNhOWNiN2RkMmEzNTI0YTIyY2MxP3Jlc3BvbnNlLWNvbnRlbnQtZGlzcG9zaXRpb249KiZyZXNwb25zZS1jb250ZW50LXR5cGU9KiJ9XX0_&Signature=wGdcZ4QHB81gr8pbgkHSA60xc3dcrTJIMF-ldoSMv6JVMWzdk9%7EdMhJID4u2PLYnmrpmCcHzrGWqyoORnwkVLjf7WBeoWNg8VNnn-zinOMM4Kc9VpGVNkpH8pcx0nccG140ak3qDghp%7E7M%7ER6PJXlhaWUyzYziZq8fVmrMTgJMb5orR1t3KrDu8rHX4GhUnh6420s5waaVaVMfgYAAt170-wDdx-cMWUtjLh4OXD6vHIiK7Wy667%7EBuJnPR%7ENYnG9YDg4b1QCk8bW5rTLPfb6G2UZWron%7EUlW5Qz1T4egduLWsFfL1lDz5vQ0H9LOvTNzrhCzZ0RSih9Sf%7EJLX045A__&Key-Pair-Id=K3RPWS32NSSJCE [following]\n",
            "--2025-07-25 16:23:01--  https://cdn-lfs.hf.co/datasets/solomonk/reddit_mental_health_posts/b68da65fd2d82396c4191232b39ae6563d520047681d3a9cb7dd2a3524a22cc1?response-content-disposition=inline%3B+filename*%3DUTF-8%27%27ocd.csv%3B+filename%3D%22ocd.csv%22%3B&response-content-type=text%2Fcsv&Expires=1753464181&Policy=eyJTdGF0ZW1lbnQiOlt7IkNvbmRpdGlvbiI6eyJEYXRlTGVzc1RoYW4iOnsiQVdTOkVwb2NoVGltZSI6MTc1MzQ2NDE4MX19LCJSZXNvdXJjZSI6Imh0dHBzOi8vY2RuLWxmcy5oZi5jby9kYXRhc2V0cy9zb2xvbW9uay9yZWRkaXRfbWVudGFsX2hlYWx0aF9wb3N0cy9iNjhkYTY1ZmQyZDgyMzk2YzQxOTEyMzJiMzlhZTY1NjNkNTIwMDQ3NjgxZDNhOWNiN2RkMmEzNTI0YTIyY2MxP3Jlc3BvbnNlLWNvbnRlbnQtZGlzcG9zaXRpb249KiZyZXNwb25zZS1jb250ZW50LXR5cGU9KiJ9XX0_&Signature=wGdcZ4QHB81gr8pbgkHSA60xc3dcrTJIMF-ldoSMv6JVMWzdk9%7EdMhJID4u2PLYnmrpmCcHzrGWqyoORnwkVLjf7WBeoWNg8VNnn-zinOMM4Kc9VpGVNkpH8pcx0nccG140ak3qDghp%7E7M%7ER6PJXlhaWUyzYziZq8fVmrMTgJMb5orR1t3KrDu8rHX4GhUnh6420s5waaVaVMfgYAAt170-wDdx-cMWUtjLh4OXD6vHIiK7Wy667%7EBuJnPR%7ENYnG9YDg4b1QCk8bW5rTLPfb6G2UZWron%7EUlW5Qz1T4egduLWsFfL1lDz5vQ0H9LOvTNzrhCzZ0RSih9Sf%7EJLX045A__&Key-Pair-Id=K3RPWS32NSSJCE\n",
            "Resolving cdn-lfs.hf.co (cdn-lfs.hf.co)... 18.160.18.28, 18.160.18.96, 18.160.18.45, ...\n",
            "Connecting to cdn-lfs.hf.co (cdn-lfs.hf.co)|18.160.18.28|:443... connected.\n",
            "HTTP request sent, awaiting response... 200 OK\n",
            "Length: 29818604 (28M) [text/csv]\n",
            "Saving to: ‘ocd.csv’\n",
            "\n",
            "ocd.csv             100%[===================>]  28.44M  88.8MB/s    in 0.3s    \n",
            "\n",
            "2025-07-25 16:23:02 (88.8 MB/s) - ‘ocd.csv’ saved [29818604/29818604]\n",
            "\n"
          ]
        }
      ]
    },
    {
      "cell_type": "code",
      "source": [
        "import pandas as pd\n",
        "\n",
        "# Load each dataset\n",
        "df_dep = pd.read_csv(\"depression.csv\")\n",
        "df_adhd = pd.read_csv(\"adhd.csv\")\n",
        "df_ocd = pd.read_csv(\"ocd.csv\")\n",
        "\n",
        "# Add label columns\n",
        "df_dep['label'] = 'depression'\n",
        "df_adhd['label'] = 'adhd'\n",
        "df_ocd['label'] = 'ocd'\n",
        "\n",
        "# Select and rename columns\n",
        "def prepare(df):\n",
        "    return df[['body', 'label']].rename(columns={'body': 'text'})\n",
        "\n",
        "df = pd.concat([prepare(df_dep), prepare(df_adhd), prepare(df_ocd)], ignore_index=True)\n",
        "df.head()\n"
      ],
      "metadata": {
        "colab": {
          "base_uri": "https://localhost:8080/",
          "height": 206
        },
        "id": "BDrl2erXZoK4",
        "outputId": "ced04d15-b009-47ca-e46b-4b2eb25fe1e1"
      },
      "execution_count": 6,
      "outputs": [
        {
          "output_type": "execute_result",
          "data": {
            "text/plain": [
              "                                                text       label\n",
              "0  *not sure if this counts as self-pity and I’m ...  depression\n",
              "1                                          [removed]  depression\n",
              "2  Has Wellbutrin ever worked for anyone? I've be...  depression\n",
              "3  Hello, I have been asking this question for a ...  depression\n",
              "4  (not rily sure when to use trigger warnings, b...  depression"
            ],
            "text/html": [
              "\n",
              "  <div id=\"df-b9d634e6-9c4f-461a-89cb-3ca71844113b\" class=\"colab-df-container\">\n",
              "    <div>\n",
              "<style scoped>\n",
              "    .dataframe tbody tr th:only-of-type {\n",
              "        vertical-align: middle;\n",
              "    }\n",
              "\n",
              "    .dataframe tbody tr th {\n",
              "        vertical-align: top;\n",
              "    }\n",
              "\n",
              "    .dataframe thead th {\n",
              "        text-align: right;\n",
              "    }\n",
              "</style>\n",
              "<table border=\"1\" class=\"dataframe\">\n",
              "  <thead>\n",
              "    <tr style=\"text-align: right;\">\n",
              "      <th></th>\n",
              "      <th>text</th>\n",
              "      <th>label</th>\n",
              "    </tr>\n",
              "  </thead>\n",
              "  <tbody>\n",
              "    <tr>\n",
              "      <th>0</th>\n",
              "      <td>*not sure if this counts as self-pity and I’m ...</td>\n",
              "      <td>depression</td>\n",
              "    </tr>\n",
              "    <tr>\n",
              "      <th>1</th>\n",
              "      <td>[removed]</td>\n",
              "      <td>depression</td>\n",
              "    </tr>\n",
              "    <tr>\n",
              "      <th>2</th>\n",
              "      <td>Has Wellbutrin ever worked for anyone? I've be...</td>\n",
              "      <td>depression</td>\n",
              "    </tr>\n",
              "    <tr>\n",
              "      <th>3</th>\n",
              "      <td>Hello, I have been asking this question for a ...</td>\n",
              "      <td>depression</td>\n",
              "    </tr>\n",
              "    <tr>\n",
              "      <th>4</th>\n",
              "      <td>(not rily sure when to use trigger warnings, b...</td>\n",
              "      <td>depression</td>\n",
              "    </tr>\n",
              "  </tbody>\n",
              "</table>\n",
              "</div>\n",
              "    <div class=\"colab-df-buttons\">\n",
              "\n",
              "  <div class=\"colab-df-container\">\n",
              "    <button class=\"colab-df-convert\" onclick=\"convertToInteractive('df-b9d634e6-9c4f-461a-89cb-3ca71844113b')\"\n",
              "            title=\"Convert this dataframe to an interactive table.\"\n",
              "            style=\"display:none;\">\n",
              "\n",
              "  <svg xmlns=\"http://www.w3.org/2000/svg\" height=\"24px\" viewBox=\"0 -960 960 960\">\n",
              "    <path d=\"M120-120v-720h720v720H120Zm60-500h600v-160H180v160Zm220 220h160v-160H400v160Zm0 220h160v-160H400v160ZM180-400h160v-160H180v160Zm440 0h160v-160H620v160ZM180-180h160v-160H180v160Zm440 0h160v-160H620v160Z\"/>\n",
              "  </svg>\n",
              "    </button>\n",
              "\n",
              "  <style>\n",
              "    .colab-df-container {\n",
              "      display:flex;\n",
              "      gap: 12px;\n",
              "    }\n",
              "\n",
              "    .colab-df-convert {\n",
              "      background-color: #E8F0FE;\n",
              "      border: none;\n",
              "      border-radius: 50%;\n",
              "      cursor: pointer;\n",
              "      display: none;\n",
              "      fill: #1967D2;\n",
              "      height: 32px;\n",
              "      padding: 0 0 0 0;\n",
              "      width: 32px;\n",
              "    }\n",
              "\n",
              "    .colab-df-convert:hover {\n",
              "      background-color: #E2EBFA;\n",
              "      box-shadow: 0px 1px 2px rgba(60, 64, 67, 0.3), 0px 1px 3px 1px rgba(60, 64, 67, 0.15);\n",
              "      fill: #174EA6;\n",
              "    }\n",
              "\n",
              "    .colab-df-buttons div {\n",
              "      margin-bottom: 4px;\n",
              "    }\n",
              "\n",
              "    [theme=dark] .colab-df-convert {\n",
              "      background-color: #3B4455;\n",
              "      fill: #D2E3FC;\n",
              "    }\n",
              "\n",
              "    [theme=dark] .colab-df-convert:hover {\n",
              "      background-color: #434B5C;\n",
              "      box-shadow: 0px 1px 3px 1px rgba(0, 0, 0, 0.15);\n",
              "      filter: drop-shadow(0px 1px 2px rgba(0, 0, 0, 0.3));\n",
              "      fill: #FFFFFF;\n",
              "    }\n",
              "  </style>\n",
              "\n",
              "    <script>\n",
              "      const buttonEl =\n",
              "        document.querySelector('#df-b9d634e6-9c4f-461a-89cb-3ca71844113b button.colab-df-convert');\n",
              "      buttonEl.style.display =\n",
              "        google.colab.kernel.accessAllowed ? 'block' : 'none';\n",
              "\n",
              "      async function convertToInteractive(key) {\n",
              "        const element = document.querySelector('#df-b9d634e6-9c4f-461a-89cb-3ca71844113b');\n",
              "        const dataTable =\n",
              "          await google.colab.kernel.invokeFunction('convertToInteractive',\n",
              "                                                    [key], {});\n",
              "        if (!dataTable) return;\n",
              "\n",
              "        const docLinkHtml = 'Like what you see? Visit the ' +\n",
              "          '<a target=\"_blank\" href=https://colab.research.google.com/notebooks/data_table.ipynb>data table notebook</a>'\n",
              "          + ' to learn more about interactive tables.';\n",
              "        element.innerHTML = '';\n",
              "        dataTable['output_type'] = 'display_data';\n",
              "        await google.colab.output.renderOutput(dataTable, element);\n",
              "        const docLink = document.createElement('div');\n",
              "        docLink.innerHTML = docLinkHtml;\n",
              "        element.appendChild(docLink);\n",
              "      }\n",
              "    </script>\n",
              "  </div>\n",
              "\n",
              "\n",
              "    <div id=\"df-3cff09f9-405f-4414-9341-95e444a10709\">\n",
              "      <button class=\"colab-df-quickchart\" onclick=\"quickchart('df-3cff09f9-405f-4414-9341-95e444a10709')\"\n",
              "                title=\"Suggest charts\"\n",
              "                style=\"display:none;\">\n",
              "\n",
              "<svg xmlns=\"http://www.w3.org/2000/svg\" height=\"24px\"viewBox=\"0 0 24 24\"\n",
              "     width=\"24px\">\n",
              "    <g>\n",
              "        <path d=\"M19 3H5c-1.1 0-2 .9-2 2v14c0 1.1.9 2 2 2h14c1.1 0 2-.9 2-2V5c0-1.1-.9-2-2-2zM9 17H7v-7h2v7zm4 0h-2V7h2v10zm4 0h-2v-4h2v4z\"/>\n",
              "    </g>\n",
              "</svg>\n",
              "      </button>\n",
              "\n",
              "<style>\n",
              "  .colab-df-quickchart {\n",
              "      --bg-color: #E8F0FE;\n",
              "      --fill-color: #1967D2;\n",
              "      --hover-bg-color: #E2EBFA;\n",
              "      --hover-fill-color: #174EA6;\n",
              "      --disabled-fill-color: #AAA;\n",
              "      --disabled-bg-color: #DDD;\n",
              "  }\n",
              "\n",
              "  [theme=dark] .colab-df-quickchart {\n",
              "      --bg-color: #3B4455;\n",
              "      --fill-color: #D2E3FC;\n",
              "      --hover-bg-color: #434B5C;\n",
              "      --hover-fill-color: #FFFFFF;\n",
              "      --disabled-bg-color: #3B4455;\n",
              "      --disabled-fill-color: #666;\n",
              "  }\n",
              "\n",
              "  .colab-df-quickchart {\n",
              "    background-color: var(--bg-color);\n",
              "    border: none;\n",
              "    border-radius: 50%;\n",
              "    cursor: pointer;\n",
              "    display: none;\n",
              "    fill: var(--fill-color);\n",
              "    height: 32px;\n",
              "    padding: 0;\n",
              "    width: 32px;\n",
              "  }\n",
              "\n",
              "  .colab-df-quickchart:hover {\n",
              "    background-color: var(--hover-bg-color);\n",
              "    box-shadow: 0 1px 2px rgba(60, 64, 67, 0.3), 0 1px 3px 1px rgba(60, 64, 67, 0.15);\n",
              "    fill: var(--button-hover-fill-color);\n",
              "  }\n",
              "\n",
              "  .colab-df-quickchart-complete:disabled,\n",
              "  .colab-df-quickchart-complete:disabled:hover {\n",
              "    background-color: var(--disabled-bg-color);\n",
              "    fill: var(--disabled-fill-color);\n",
              "    box-shadow: none;\n",
              "  }\n",
              "\n",
              "  .colab-df-spinner {\n",
              "    border: 2px solid var(--fill-color);\n",
              "    border-color: transparent;\n",
              "    border-bottom-color: var(--fill-color);\n",
              "    animation:\n",
              "      spin 1s steps(1) infinite;\n",
              "  }\n",
              "\n",
              "  @keyframes spin {\n",
              "    0% {\n",
              "      border-color: transparent;\n",
              "      border-bottom-color: var(--fill-color);\n",
              "      border-left-color: var(--fill-color);\n",
              "    }\n",
              "    20% {\n",
              "      border-color: transparent;\n",
              "      border-left-color: var(--fill-color);\n",
              "      border-top-color: var(--fill-color);\n",
              "    }\n",
              "    30% {\n",
              "      border-color: transparent;\n",
              "      border-left-color: var(--fill-color);\n",
              "      border-top-color: var(--fill-color);\n",
              "      border-right-color: var(--fill-color);\n",
              "    }\n",
              "    40% {\n",
              "      border-color: transparent;\n",
              "      border-right-color: var(--fill-color);\n",
              "      border-top-color: var(--fill-color);\n",
              "    }\n",
              "    60% {\n",
              "      border-color: transparent;\n",
              "      border-right-color: var(--fill-color);\n",
              "    }\n",
              "    80% {\n",
              "      border-color: transparent;\n",
              "      border-right-color: var(--fill-color);\n",
              "      border-bottom-color: var(--fill-color);\n",
              "    }\n",
              "    90% {\n",
              "      border-color: transparent;\n",
              "      border-bottom-color: var(--fill-color);\n",
              "    }\n",
              "  }\n",
              "</style>\n",
              "\n",
              "      <script>\n",
              "        async function quickchart(key) {\n",
              "          const quickchartButtonEl =\n",
              "            document.querySelector('#' + key + ' button');\n",
              "          quickchartButtonEl.disabled = true;  // To prevent multiple clicks.\n",
              "          quickchartButtonEl.classList.add('colab-df-spinner');\n",
              "          try {\n",
              "            const charts = await google.colab.kernel.invokeFunction(\n",
              "                'suggestCharts', [key], {});\n",
              "          } catch (error) {\n",
              "            console.error('Error during call to suggestCharts:', error);\n",
              "          }\n",
              "          quickchartButtonEl.classList.remove('colab-df-spinner');\n",
              "          quickchartButtonEl.classList.add('colab-df-quickchart-complete');\n",
              "        }\n",
              "        (() => {\n",
              "          let quickchartButtonEl =\n",
              "            document.querySelector('#df-3cff09f9-405f-4414-9341-95e444a10709 button');\n",
              "          quickchartButtonEl.style.display =\n",
              "            google.colab.kernel.accessAllowed ? 'block' : 'none';\n",
              "        })();\n",
              "      </script>\n",
              "    </div>\n",
              "\n",
              "    </div>\n",
              "  </div>\n"
            ],
            "application/vnd.google.colaboratory.intrinsic+json": {
              "type": "dataframe",
              "variable_name": "df"
            }
          },
          "metadata": {},
          "execution_count": 6
        }
      ]
    },
    {
      "cell_type": "code",
      "source": [
        "print(df.shape)\n",
        "print(df['label'].value_counts())\n"
      ],
      "metadata": {
        "colab": {
          "base_uri": "https://localhost:8080/"
        },
        "id": "sNxIbZC-Zt0C",
        "outputId": "67848507-51e0-4608-a54d-a9327d639df4"
      },
      "execution_count": 7,
      "outputs": [
        {
          "output_type": "stream",
          "name": "stdout",
          "text": [
            "(103966, 2)\n",
            "label\n",
            "ocd           42826\n",
            "adhd          37109\n",
            "depression    24031\n",
            "Name: count, dtype: int64\n"
          ]
        }
      ]
    },
    {
      "cell_type": "code",
      "source": [
        "import seaborn as sns\n",
        "import matplotlib.pyplot as plt\n",
        "\n",
        "plt.figure(figsize=(6,5))\n",
        "sns.countplot(y='label', data=df, order=df['label'].value_counts().index)\n",
        "plt.title(\"Post Counts per Mental Health Label\")\n",
        "plt.show()\n"
      ],
      "metadata": {
        "colab": {
          "base_uri": "https://localhost:8080/",
          "height": 487
        },
        "id": "CvOKyNA_Z31W",
        "outputId": "bae57c91-ae65-43e3-f160-13951df51703"
      },
      "execution_count": 8,
      "outputs": [
        {
          "output_type": "display_data",
          "data": {
            "text/plain": [
              "<Figure size 600x500 with 1 Axes>"
            ],
            "image/png": "[encoded data removed]"
          },
          "metadata": {}
        }
      ]
    },
    {
      "cell_type": "code",
      "source": [
        "import re\n",
        "from nltk.corpus import stopwords\n",
        "from nltk.tokenize import word_tokenize\n",
        "from nltk.stem import WordNetLemmatizer\n",
        "\n",
        "# (Install NLTK downloads if missing)\n",
        "stop_words = set(stopwords.words('english'))\n",
        "lemmatizer = WordNetLemmatizer()\n",
        "\n",
        "def clean_text(text):\n",
        "    # Convert input to string to handle potential non-string values\n",
        "    text = str(text)\n",
        "    text = text.lower()\n",
        "    text = re.sub(r'http\\S+|www.\\S+', '', text)\n",
        "    text = re.sub(r'[^a-zA-Z ]', '', text)\n",
        "    tokens = word_tokenize(text)\n",
        "    return \" \".join([lemmatizer.lemmatize(w) for w in tokens if w not in stop_words])\n",
        "\n",
        "df['clean_text'] = df['text'].apply(clean_text)"
      ],
      "metadata": {
        "id": "HdKRMmf2aQKm"
      },
      "execution_count": 17,
      "outputs": []
    },
    {
      "cell_type": "code",
      "metadata": {
        "colab": {
          "base_uri": "https://localhost:8080/"
        },
        "id": "7ec86273",
        "outputId": "6346dbb8-91b6-4406-e1c0-b1df044c82cb"
      },
      "source": [
        "import nltk\n",
        "nltk.download('stopwords')\n",
        "nltk.download('punkt')\n",
        "nltk.download('wordnet')\n",
        "nltk.download('punkt_tab')"
      ],
      "execution_count": 14,
      "outputs": [
        {
          "output_type": "stream",
          "name": "stderr",
          "text": [
            "[nltk_data] Downloading package stopwords to /root/nltk_data...\n",
            "[nltk_data]   Package stopwords is already up-to-date!\n",
            "[nltk_data] Downloading package punkt to /root/nltk_data...\n",
            "[nltk_data]   Package punkt is already up-to-date!\n",
            "[nltk_data] Downloading package wordnet to /root/nltk_data...\n",
            "[nltk_data]   Package wordnet is already up-to-date!\n",
            "[nltk_data] Downloading package punkt_tab to /root/nltk_data...\n",
            "[nltk_data]   Unzipping tokenizers/punkt_tab.zip.\n"
          ]
        },
        {
          "output_type": "execute_result",
          "data": {
            "text/plain": [
              "True"
            ]
          },
          "metadata": {},
          "execution_count": 14
        }
      ]
    },
    {
      "cell_type": "code",
      "source": [
        "from sklearn.model_selection import train_test_split\n",
        "from sklearn.feature_extraction.text import TfidfVectorizer\n",
        "from sklearn.linear_model import LogisticRegression\n",
        "from sklearn.metrics import accuracy_score, classification_report, confusion_matrix\n",
        "import seaborn as sns\n",
        "import matplotlib.pyplot as plt\n",
        "\n",
        "X = df['clean_text']\n",
        "y = df['label']\n",
        "\n",
        "X_train, X_test, y_train, y_test = train_test_split(X, y, test_size=0.2, random_state=42, stratify=y)\n",
        "\n",
        "vectorizer = TfidfVectorizer(max_features=10000)\n",
        "X_train_vec = vectorizer.fit_transform(X_train)\n",
        "X_test_vec = vectorizer.transform(X_test)\n",
        "\n",
        "model = LogisticRegression(max_iter=2000)\n",
        "model.fit(X_train_vec, y_train)\n",
        "y_pred = model.predict(X_test_vec)\n",
        "\n",
        "print(\"Accuracy:\", accuracy_score(y_test, y_pred))\n",
        "print(\"\\nClassification Report:\\n\", classification_report(y_test, y_pred))\n"
      ],
      "metadata": {
        "colab": {
          "base_uri": "https://localhost:8080/"
        },
        "id": "TRKm8X6ucFIC",
        "outputId": "e2314fab-ce35-46a2-ea5d-8bfac916aa58"
      },
      "execution_count": 18,
      "outputs": [
        {
          "output_type": "stream",
          "name": "stdout",
          "text": [
            "Accuracy: 0.7770991632201597\n",
            "\n",
            "Classification Report:\n",
            "               precision    recall  f1-score   support\n",
            "\n",
            "        adhd       0.80      0.81      0.81      7422\n",
            "  depression       0.86      0.50      0.63      4806\n",
            "         ocd       0.74      0.91      0.81      8566\n",
            "\n",
            "    accuracy                           0.78     20794\n",
            "   macro avg       0.80      0.74      0.75     20794\n",
            "weighted avg       0.79      0.78      0.77     20794\n",
            "\n"
          ]
        }
      ]
    },
    {
      "cell_type": "code",
      "source": [
        "cm = confusion_matrix(y_test, y_pred, labels=model.classes_)\n",
        "plt.figure(figsize=(8,6))\n",
        "sns.heatmap(cm, annot=True, fmt='d', xticklabels=model.classes_, yticklabels=model.classes_, cmap='Blues')\n",
        "plt.xlabel(\"Predicted\")\n",
        "plt.ylabel(\"Actual\")\n",
        "plt.title(\"Confusion Matrix for Multi-Class Sentiment\")\n",
        "plt.show()\n"
      ],
      "metadata": {
        "colab": {
          "base_uri": "https://localhost:8080/",
          "height": 564
        },
        "id": "ryHMsA94cQbP",
        "outputId": "a0529fc8-0e1b-4723-b022-11e9f9d9a642"
      },
      "execution_count": 19,
      "outputs": [
        {
          "output_type": "display_data",
          "data": {
            "text/plain": [
              "<Figure size 800x600 with 2 Axes>"
            ],
            "image/png": "[encoded data removed]"
          },
          "metadata": {}
        }
      ]
    },
    {
      "cell_type": "code",
      "source": [
        "import joblib\n",
        "joblib.dump(model, \"mh_model.pkl\")\n",
        "joblib.dump(vectorizer, \"tfidf_vectorizer.pkl\")\n"
      ],
      "metadata": {
        "colab": {
          "base_uri": "https://localhost:8080/"
        },
        "id": "mI1YqzNVcs21",
        "outputId": "0d22abaf-8362-4c2b-bdc4-c8a16bd09472"
      },
      "execution_count": 20,
      "outputs": [
        {
          "output_type": "execute_result",
          "data": {
            "text/plain": [
              "['tfidf_vectorizer.pkl']"
            ]
          },
          "metadata": {},
          "execution_count": 20
        }
      ]
    },
    {
      "cell_type": "code",
      "source": [
        "def predict(text):\n",
        "    vect = vectorizer.transform([text])\n",
        "    return model.predict(vect)[0]\n",
        "\n",
        "samples = [\"I feel overwhelmed and anxious.\", \"I can't focus at all anymore.\"]\n",
        "for s in samples:\n",
        "    print(s, \"→\", predict(s))\n"
      ],
      "metadata": {
        "colab": {
          "base_uri": "https://localhost:8080/"
        },
        "id": "zGepN7m-cvJe",
        "outputId": "e7319504-4523-4bd7-8c8f-f770bd773750"
      },
      "execution_count": 21,
      "outputs": [
        {
          "output_type": "stream",
          "name": "stdout",
          "text": [
            "I feel overwhelmed and anxious. → ocd\n",
            "I can't focus at all anymore. → ocd\n"
          ]
        }
      ]
    },
    {
      "cell_type": "code",
      "source": [],
      "metadata": {
        "id": "su_vctTQc2Ro"
      },
      "execution_count": null,
      "outputs": []
    }
  ]
}